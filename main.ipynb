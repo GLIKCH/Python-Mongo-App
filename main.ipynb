{
 "cells": [
  {
   "cell_type": "code",
   "execution_count": 1,
   "id": "7c15e32d",
   "metadata": {},
   "outputs": [
    {
     "name": "stdout",
     "output_type": "stream",
     "text": [
      "{'_id': ObjectId('6487b3c7e8deab83ed431420'), 'name': 'bruno', 'type': 'dog'}\n",
      "{'_id': ObjectId('6487b3c7e8deab83ed431422'), 'name': 'sticky', 'type': 'dog'}\n"
     ]
    }
   ],
   "source": [
    "# Joel De Alba\n",
    "# Southern New Hampshire University\n",
    "# 06/30/23\n",
    "# Professor Dr. Tad Kellog\n",
    "\n",
    "# Importing the Animal Shelter Python Script\n",
    "from AnimalShelter import AnimalShelter\n",
    "\n",
    "# pulling data from AnimalShelter.py\n",
    "animalShelter = AnimalShelter()\n",
    "\n",
    "# Data Inserts\n",
    "animal_data = [\n",
    "    {\n",
    "        \"name\":\"bruno\",\n",
    "        \"type\":\"dog\"\n",
    "    },\n",
    "    {\n",
    "        \"name\":\"missy\",\n",
    "        \"type\":\"cat\"\n",
    "    },\n",
    "    {\n",
    "        \"name\":\"sticky\",\n",
    "        \"type\":\"dog\"\n",
    "    }\n",
    "]\n",
    "\n",
    "# For each object, Create\n",
    "for i in animal_data:\n",
    "    animalShelter.create(i)\n",
    "\n",
    "# Read new entry\n",
    "dogs = animalShelter.read( {\"type\":\"dog\"}  )\n",
    "for dog in dogs:\n",
    "    print(dog)"
   ]
  },
  {
   "cell_type": "code",
   "execution_count": null,
   "id": "94b03be8",
   "metadata": {},
   "outputs": [],
   "source": []
  }
 ],
 "metadata": {
  "kernelspec": {
   "display_name": "Python 3 (ipykernel)",
   "language": "python",
   "name": "python3"
  },
  "language_info": {
   "codemirror_mode": {
    "name": "ipython",
    "version": 3
   },
   "file_extension": ".py",
   "mimetype": "text/x-python",
   "name": "python",
   "nbconvert_exporter": "python",
   "pygments_lexer": "ipython3",
   "version": "3.9.12"
  }
 },
 "nbformat": 4,
 "nbformat_minor": 5
}
